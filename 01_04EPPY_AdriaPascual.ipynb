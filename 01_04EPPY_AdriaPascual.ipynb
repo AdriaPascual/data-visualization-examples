{
 "cells": [
  {
   "cell_type": "markdown",
   "id": "intellectual-humor",
   "metadata": {},
   "source": [
    "<img src=\"../img/viu_logo.png\" width=\"200\">\n",
    "\n",
    "## 04EPPY - Actividad 1\n",
    "\n",
    "25% de la Nota Final\n",
    "\n",
    "### Fecha Entrega\n",
    "- Convocatoria 1 - 10/03/2022\n",
    "- Convocatoria 2 - 17/03/2022\n",
    "\n",
    "### Instrucciones:\n",
    "- Crear un notebook de Python3 que servirá como entrega de la actividad.\n",
    "- Separar bien los apartados propuestos con celdas Markdown.\n",
    "- Mantener una estructura limpia, comentando código y secuenciando los apartados con el código correspondiente que resuelva la actividad.\n",
    "- Como criterio de evaluación se tendrá en cuenta el resultado, la consecución del mismo, estilo, comentarios y adecuación.\n",
    "- No está permitido compartir los resultados ni el código en ninguno de los foros. \n",
    "\n",
    "### Entrega:\n",
    "- Un solo documento en formato notebook: .ipynb\n",
    "- Para hacer la entrega hay que hacer un tag al repositorio en una fecha anterior a la fecha de entrega de la actividad, y pegar el enlace al tag del repositorio en la actividad de blackboard."
   ]
  },
  {
   "cell_type": "markdown",
   "id": "southwest-learning",
   "metadata": {},
   "source": [
    "### A1 - Ficheros - 15%\n",
    "- Descarga datos mediante la siguiente url https://raw.githubusercontent.com/grammakov/USA-cities-and-states/master/us_cities_states_counties.csv\n",
    "- Imprimir el número de ciudades que tiene el estado de Florida\n",
    "- Resolver el problema de dos maneras distintas, una usando pandas y otra sin usar ninguna librería (solo Python standard)"
   ]
  },
  {
   "cell_type": "code",
   "execution_count": 42,
   "id": "e699922e",
   "metadata": {},
   "outputs": [
    {
     "name": "stderr",
     "output_type": "stream",
     "text": [
      "C:\\Users\\info\\AppData\\Local\\Temp\\ipykernel_14228\\27796946.py:5: FutureWarning: The error_bad_lines argument has been deprecated and will be removed in a future version. Use on_bad_lines in the future.\n",
      "\n",
      "\n",
      "  df = pd.read_csv(url, error_bad_lines=False)\n"
     ]
    },
    {
     "name": "stdout",
     "output_type": "stream",
     "text": [
      "       City|State short|State full|County|City alias\n",
      "0  Holtsville|NY|New York|SUFFOLK|Internal Revenu...\n",
      "1          Holtsville|NY|New York|SUFFOLK|Holtsville\n",
      "2   Adjuntas|PR|Puerto Rico|ADJUNTAS|URB San Joaquin\n",
      "3  Adjuntas|PR|Puerto Rico|ADJUNTAS|Jard De Adjuntas\n",
      "4  Adjuntas|PR|Puerto Rico|ADJUNTAS|Colinas Del G...\n",
      "5          Adjuntas|PR|Puerto Rico|ADJUNTAS|Adjuntas\n",
      "6  Aguada|PR|Puerto Rico|AGUADA|Comunidad Las Flores\n",
      "7  Aguada|PR|Puerto Rico|AGUADA|URB Isabel La Cat...\n",
      "8        Aguada|PR|Puerto Rico|AGUADA|Alts De Aguada\n",
      "9        Aguada|PR|Puerto Rico|AGUADA|Bo Guaniquilla\n",
      "           City|State short|State full|County|City alias\n",
      "0      Holtsville|NY|New York|SUFFOLK|Internal Revenu...\n",
      "1              Holtsville|NY|New York|SUFFOLK|Holtsville\n",
      "2       Adjuntas|PR|Puerto Rico|ADJUNTAS|URB San Joaquin\n",
      "3      Adjuntas|PR|Puerto Rico|ADJUNTAS|Jard De Adjuntas\n",
      "4      Adjuntas|PR|Puerto Rico|ADJUNTAS|Colinas Del G...\n",
      "...                                                  ...\n",
      "62957    Klawock|AK|Alaska|PRINCE OF WALES HYDER|Klawock\n",
      "62958  Metlakatla|AK|Alaska|PRINCE OF WALES HYDER|Met...\n",
      "62959  Point Baker|AK|Alaska|PRINCE OF WALES HYDER|Po...\n",
      "62960    Ward Cove|AK|Alaska|KETCHIKAN GATEWAY|Ward Cove\n",
      "62961               Wrangell|AK|Alaska|WRANGELL|Wrangell\n",
      "\n",
      "[62962 rows x 1 columns]\n"
     ]
    },
    {
     "name": "stderr",
     "output_type": "stream",
     "text": [
      "b'Skipping line 15999: expected 1 fields, saw 2\\nSkipping line 16000: expected 1 fields, saw 2\\nSkipping line 16001: expected 1 fields, saw 2\\nSkipping line 16002: expected 1 fields, saw 2\\nSkipping line 16003: expected 1 fields, saw 2\\nSkipping line 16004: expected 1 fields, saw 2\\nSkipping line 16005: expected 1 fields, saw 2\\nSkipping line 16006: expected 1 fields, saw 2\\nSkipping line 16007: expected 1 fields, saw 2\\nSkipping line 16008: expected 1 fields, saw 2\\nSkipping line 16009: expected 1 fields, saw 2\\nSkipping line 16010: expected 1 fields, saw 2\\nSkipping line 16011: expected 1 fields, saw 2\\nSkipping line 16012: expected 1 fields, saw 2\\nSkipping line 16013: expected 1 fields, saw 2\\nSkipping line 16014: expected 1 fields, saw 2\\nSkipping line 16015: expected 1 fields, saw 2\\nSkipping line 16016: expected 1 fields, saw 2\\nSkipping line 16017: expected 1 fields, saw 2\\nSkipping line 16018: expected 1 fields, saw 2\\nSkipping line 16019: expected 1 fields, saw 2\\nSkipping line 16020: expected 1 fields, saw 2\\nSkipping line 16021: expected 1 fields, saw 2\\nSkipping line 16022: expected 1 fields, saw 2\\nSkipping line 16023: expected 1 fields, saw 2\\nSkipping line 16024: expected 1 fields, saw 2\\nSkipping line 16025: expected 1 fields, saw 2\\nSkipping line 16026: expected 1 fields, saw 2\\nSkipping line 16027: expected 1 fields, saw 2\\nSkipping line 16028: expected 1 fields, saw 2\\nSkipping line 16029: expected 1 fields, saw 2\\nSkipping line 16030: expected 1 fields, saw 2\\nSkipping line 16031: expected 1 fields, saw 2\\nSkipping line 16032: expected 1 fields, saw 2\\nSkipping line 16033: expected 1 fields, saw 2\\nSkipping line 16034: expected 1 fields, saw 2\\nSkipping line 16035: expected 1 fields, saw 2\\nSkipping line 16036: expected 1 fields, saw 2\\nSkipping line 16037: expected 1 fields, saw 2\\nSkipping line 16038: expected 1 fields, saw 2\\nSkipping line 16120: expected 1 fields, saw 2\\nSkipping line 16121: expected 1 fields, saw 2\\nSkipping line 16122: expected 1 fields, saw 2\\nSkipping line 16123: expected 1 fields, saw 2\\nSkipping line 16124: expected 1 fields, saw 2\\nSkipping line 16125: expected 1 fields, saw 2\\nSkipping line 16126: expected 1 fields, saw 2\\nSkipping line 16127: expected 1 fields, saw 2\\nSkipping line 16128: expected 1 fields, saw 2\\nSkipping line 16129: expected 1 fields, saw 2\\nSkipping line 16130: expected 1 fields, saw 2\\nSkipping line 16131: expected 1 fields, saw 2\\nSkipping line 16132: expected 1 fields, saw 2\\nSkipping line 16133: expected 1 fields, saw 2\\nSkipping line 16134: expected 1 fields, saw 2\\nSkipping line 16135: expected 1 fields, saw 2\\nSkipping line 16136: expected 1 fields, saw 2\\nSkipping line 16137: expected 1 fields, saw 2\\nSkipping line 16138: expected 1 fields, saw 2\\nSkipping line 16139: expected 1 fields, saw 2\\nSkipping line 16140: expected 1 fields, saw 2\\nSkipping line 16141: expected 1 fields, saw 2\\nSkipping line 16142: expected 1 fields, saw 2\\nSkipping line 16143: expected 1 fields, saw 2\\nSkipping line 16144: expected 1 fields, saw 2\\nSkipping line 16145: expected 1 fields, saw 2\\nSkipping line 16146: expected 1 fields, saw 2\\nSkipping line 16147: expected 1 fields, saw 2\\nSkipping line 16148: expected 1 fields, saw 2\\nSkipping line 16149: expected 1 fields, saw 2\\nSkipping line 16150: expected 1 fields, saw 2\\nSkipping line 16151: expected 1 fields, saw 2\\nSkipping line 16152: expected 1 fields, saw 2\\nSkipping line 16153: expected 1 fields, saw 2\\nSkipping line 16154: expected 1 fields, saw 2\\nSkipping line 16155: expected 1 fields, saw 2\\nSkipping line 16156: expected 1 fields, saw 2\\nSkipping line 16157: expected 1 fields, saw 2\\nSkipping line 16158: expected 1 fields, saw 2\\nSkipping line 16159: expected 1 fields, saw 2\\nSkipping line 16160: expected 1 fields, saw 2\\nSkipping line 16161: expected 1 fields, saw 2\\nSkipping line 16162: expected 1 fields, saw 2\\nSkipping line 16163: expected 1 fields, saw 2\\nSkipping line 16164: expected 1 fields, saw 2\\nSkipping line 16165: expected 1 fields, saw 2\\nSkipping line 16166: expected 1 fields, saw 2\\nSkipping line 16167: expected 1 fields, saw 2\\nSkipping line 16168: expected 1 fields, saw 2\\nSkipping line 16169: expected 1 fields, saw 2\\nSkipping line 16170: expected 1 fields, saw 2\\nSkipping line 16171: expected 1 fields, saw 2\\nSkipping line 16172: expected 1 fields, saw 2\\nSkipping line 16173: expected 1 fields, saw 2\\nSkipping line 16174: expected 1 fields, saw 2\\nSkipping line 16175: expected 1 fields, saw 2\\nSkipping line 16176: expected 1 fields, saw 2\\nSkipping line 16177: expected 1 fields, saw 2\\nSkipping line 16178: expected 1 fields, saw 2\\nSkipping line 16179: expected 1 fields, saw 2\\nSkipping line 16180: expected 1 fields, saw 2\\nSkipping line 16181: expected 1 fields, saw 2\\nSkipping line 16182: expected 1 fields, saw 2\\nSkipping line 16183: expected 1 fields, saw 2\\nSkipping line 16184: expected 1 fields, saw 2\\nSkipping line 16185: expected 1 fields, saw 2\\nSkipping line 16186: expected 1 fields, saw 2\\nSkipping line 16187: expected 1 fields, saw 2\\nSkipping line 16188: expected 1 fields, saw 2\\nSkipping line 16189: expected 1 fields, saw 2\\nSkipping line 16190: expected 1 fields, saw 2\\nSkipping line 16191: expected 1 fields, saw 2\\nSkipping line 16192: expected 1 fields, saw 2\\nSkipping line 16193: expected 1 fields, saw 2\\nSkipping line 16194: expected 1 fields, saw 2\\nSkipping line 16195: expected 1 fields, saw 2\\nSkipping line 16196: expected 1 fields, saw 2\\nSkipping line 16197: expected 1 fields, saw 2\\nSkipping line 16198: expected 1 fields, saw 2\\nSkipping line 16199: expected 1 fields, saw 2\\nSkipping line 16200: expected 1 fields, saw 2\\nSkipping line 16201: expected 1 fields, saw 2\\nSkipping line 16202: expected 1 fields, saw 2\\nSkipping line 16203: expected 1 fields, saw 2\\nSkipping line 16204: expected 1 fields, saw 2\\nSkipping line 16205: expected 1 fields, saw 2\\nSkipping line 16206: expected 1 fields, saw 2\\nSkipping line 16207: expected 1 fields, saw 2\\nSkipping line 16208: expected 1 fields, saw 2\\nSkipping line 16209: expected 1 fields, saw 2\\nSkipping line 16210: expected 1 fields, saw 2\\nSkipping line 16211: expected 1 fields, saw 2\\nSkipping line 16212: expected 1 fields, saw 2\\nSkipping line 16213: expected 1 fields, saw 2\\nSkipping line 16214: expected 1 fields, saw 2\\nSkipping line 16215: expected 1 fields, saw 2\\nSkipping line 16216: expected 1 fields, saw 2\\nSkipping line 16217: expected 1 fields, saw 2\\nSkipping line 16218: expected 1 fields, saw 2\\nSkipping line 16219: expected 1 fields, saw 2\\nSkipping line 16220: expected 1 fields, saw 2\\nSkipping line 16221: expected 1 fields, saw 2\\nSkipping line 16222: expected 1 fields, saw 2\\nSkipping line 16223: expected 1 fields, saw 2\\nSkipping line 16224: expected 1 fields, saw 2\\nSkipping line 16225: expected 1 fields, saw 2\\nSkipping line 16226: expected 1 fields, saw 2\\nSkipping line 16227: expected 1 fields, saw 2\\nSkipping line 16228: expected 1 fields, saw 2\\nSkipping line 16229: expected 1 fields, saw 2\\nSkipping line 16230: expected 1 fields, saw 2\\nSkipping line 16231: expected 1 fields, saw 2\\nSkipping line 16232: expected 1 fields, saw 2\\nSkipping line 16233: expected 1 fields, saw 2\\nSkipping line 16234: expected 1 fields, saw 2\\nSkipping line 16235: expected 1 fields, saw 2\\nSkipping line 16236: expected 1 fields, saw 2\\nSkipping line 16237: expected 1 fields, saw 2\\nSkipping line 16238: expected 1 fields, saw 2\\nSkipping line 16239: expected 1 fields, saw 2\\nSkipping line 16240: expected 1 fields, saw 2\\nSkipping line 16241: expected 1 fields, saw 2\\nSkipping line 16242: expected 1 fields, saw 2\\nSkipping line 16243: expected 1 fields, saw 2\\nSkipping line 16244: expected 1 fields, saw 2\\nSkipping line 16245: expected 1 fields, saw 2\\nSkipping line 16246: expected 1 fields, saw 2\\nSkipping line 16247: expected 1 fields, saw 2\\nSkipping line 16248: expected 1 fields, saw 2\\nSkipping line 16249: expected 1 fields, saw 2\\nSkipping line 16250: expected 1 fields, saw 2\\nSkipping line 16251: expected 1 fields, saw 2\\nSkipping line 16252: expected 1 fields, saw 2\\nSkipping line 16253: expected 1 fields, saw 2\\nSkipping line 16254: expected 1 fields, saw 2\\nSkipping line 16255: expected 1 fields, saw 2\\nSkipping line 16256: expected 1 fields, saw 2\\nSkipping line 16257: expected 1 fields, saw 2\\nSkipping line 16258: expected 1 fields, saw 2\\nSkipping line 16259: expected 1 fields, saw 2\\nSkipping line 16260: expected 1 fields, saw 2\\nSkipping line 16261: expected 1 fields, saw 2\\nSkipping line 16262: expected 1 fields, saw 2\\nSkipping line 16263: expected 1 fields, saw 2\\nSkipping line 16264: expected 1 fields, saw 2\\nSkipping line 16265: expected 1 fields, saw 2\\nSkipping line 16266: expected 1 fields, saw 2\\nSkipping line 16267: expected 1 fields, saw 2\\nSkipping line 16268: expected 1 fields, saw 2\\nSkipping line 16269: expected 1 fields, saw 2\\nSkipping line 16270: expected 1 fields, saw 2\\nSkipping line 16271: expected 1 fields, saw 2\\nSkipping line 16272: expected 1 fields, saw 2\\nSkipping line 16273: expected 1 fields, saw 2\\nSkipping line 16274: expected 1 fields, saw 2\\nSkipping line 16275: expected 1 fields, saw 2\\nSkipping line 16276: expected 1 fields, saw 2\\nSkipping line 16277: expected 1 fields, saw 2\\nSkipping line 16278: expected 1 fields, saw 2\\nSkipping line 16279: expected 1 fields, saw 2\\nSkipping line 16280: expected 1 fields, saw 2\\nSkipping line 16281: expected 1 fields, saw 2\\nSkipping line 16282: expected 1 fields, saw 2\\nSkipping line 16283: expected 1 fields, saw 2\\nSkipping line 16284: expected 1 fields, saw 2\\nSkipping line 16285: expected 1 fields, saw 2\\nSkipping line 16286: expected 1 fields, saw 2\\nSkipping line 16287: expected 1 fields, saw 2\\nSkipping line 16288: expected 1 fields, saw 2\\nSkipping line 16289: expected 1 fields, saw 2\\nSkipping line 16290: expected 1 fields, saw 2\\nSkipping line 16291: expected 1 fields, saw 2\\nSkipping line 16292: expected 1 fields, saw 2\\nSkipping line 16293: expected 1 fields, saw 2\\nSkipping line 16294: expected 1 fields, saw 2\\nSkipping line 16295: expected 1 fields, saw 2\\nSkipping line 16296: expected 1 fields, saw 2\\nSkipping line 16297: expected 1 fields, saw 2\\nSkipping line 16298: expected 1 fields, saw 2\\nSkipping line 16299: expected 1 fields, saw 2\\nSkipping line 16300: expected 1 fields, saw 2\\nSkipping line 16301: expected 1 fields, saw 2\\nSkipping line 16302: expected 1 fields, saw 2\\nSkipping line 16303: expected 1 fields, saw 2\\nSkipping line 16304: expected 1 fields, saw 2\\nSkipping line 16305: expected 1 fields, saw 2\\nSkipping line 16306: expected 1 fields, saw 2\\nSkipping line 16307: expected 1 fields, saw 2\\nSkipping line 16308: expected 1 fields, saw 2\\nSkipping line 16309: expected 1 fields, saw 2\\nSkipping line 16310: expected 1 fields, saw 2\\nSkipping line 16311: expected 1 fields, saw 2\\nSkipping line 16312: expected 1 fields, saw 2\\nSkipping line 16313: expected 1 fields, saw 2\\nSkipping line 16314: expected 1 fields, saw 2\\nSkipping line 16315: expected 1 fields, saw 2\\nSkipping line 16316: expected 1 fields, saw 2\\nSkipping line 16317: expected 1 fields, saw 2\\nSkipping line 16318: expected 1 fields, saw 2\\nSkipping line 16323: expected 1 fields, saw 2\\nSkipping line 16324: expected 1 fields, saw 2\\nSkipping line 16325: expected 1 fields, saw 2\\nSkipping line 16326: expected 1 fields, saw 2\\nSkipping line 16341: expected 1 fields, saw 2\\nSkipping line 39521: expected 1 fields, saw 2\\nSkipping line 39522: expected 1 fields, saw 2\\nSkipping line 39523: expected 1 fields, saw 2\\nSkipping line 39524: expected 1 fields, saw 2\\n'\n"
     ]
    }
   ],
   "source": [
    "#importar la libreria pandas\n",
    "import pandas as pd\n",
    "# Asignar la direccion a una variable y usar la funcion read_csv para leer el archivo ignorando las filas que no cumplan con las condiciones generales del fichero. Así podremos asignar luego el delimitador correctamente y evitar posibles error de lectura\n",
    "url =  'https://raw.githubusercontent.com/grammakov/USA-cities-and-states/master/us_cities_states_counties.csv'\n",
    "df = pd.read_csv(url, error_bad_lines=False)\n",
    "#Impimir las 10 primeras filas del DataFrame para ver la estructura que sigue e imprimir la longitud del DF\n",
    "print(df.head(10))\n",
    "print(df.head(len(df)))\n",
    "#Aquí cuando imprima nos dará los \"warnings\" de las filas que no cumplen con la estructura del resto del fichero. Con esta información podremos acceder de manera correcta luego cuando queramos obtener los datos."
   ]
  },
  {
   "cell_type": "code",
   "execution_count": 41,
   "id": "524b2a79",
   "metadata": {},
   "outputs": [
    {
     "name": "stdout",
     "output_type": "stream",
     "text": [
      "['New York' 'Puerto Rico' 'Virgin Islands' 'Massachusetts' 'Rhode Island'\n",
      " 'New Hampshire' 'Maine' 'Vermont' 'Connecticut' 'New Jersey'\n",
      " 'US Armed Forces Europe' 'Pennsylvania' 'Delaware' 'Washington, D.C.'\n",
      " 'Virginia' 'Maryland' 'West Virginia' 'North Carolina' 'South Carolina'\n",
      " 'Georgia' 'Florida' 'Alabama' 'Tennessee' 'Mississippi' 'Kentucky' 'Ohio'\n",
      " 'Indiana' 'Michigan' 'Iowa' 'Wisconsin' 'Minnesota' 'South Dakota'\n",
      " 'North Dakota' 'Montana' 'Illinois' 'Missouri' 'Kansas' 'Nebraska'\n",
      " 'Louisiana' 'Arkansas' 'Oklahoma' 'Texas' 'Colorado' 'Wyoming' 'Idaho'\n",
      " 'Utah' 'Arizona' 'New Mexico' 'Nevada' 'California'\n",
      " 'US Armed Forces Pacific' 'Hawaii' 'American Samoa' 'Guam' 'Palau'\n",
      " 'Federated States of Micronesia' 'Northern Mariana Islands'\n",
      " 'Marshall Islands' 'Oregon' 'Washington' 'Alaska']\n",
      "El número de ciudades en el Estado de Florida es: 1400\n"
     ]
    }
   ],
   "source": [
    "df = pd.read_csv(url, delimiter='|')\n",
    "# Imprimir una lista de los valores únicos en la columna \"State full\" que debería incluir la entrada de Florida\n",
    "print(df['State full'].unique())\n",
    "#Obtener las filas con la ciudad de Florida e imprimir el número\n",
    "florida_cities = df.loc[df['State full'] == 'Florida']\n",
    "num_florida_cities = florida_cities.shape[0]\n",
    "print(f\"El número de ciudades en el Estado de Florida es: {num_florida_cities}\")\n"
   ]
  },
  {
   "cell_type": "code",
   "execution_count": 52,
   "id": "86b31f84",
   "metadata": {
    "scrolled": true
   },
   "outputs": [
    {
     "name": "stdout",
     "output_type": "stream",
     "text": [
      "City|State short|State full|County|City alias\n",
      "Holtsville|NY|New York|SUFFOLK|Internal Revenue Service\n",
      "Holtsville|NY|New York|SUFFOLK|Holtsville\n",
      "Adjuntas|PR|Puerto Rico|ADJUNTAS|URB San Joaquin\n",
      "Adjuntas|PR|Puerto Rico|ADJUNTAS|Jard De Adjuntas\n",
      "Adjuntas|PR|Puerto Rico|ADJUNTAS|Colinas Del Gigante\n",
      "Adjuntas|PR|Puerto Rico|ADJUNTAS|Adjuntas\n",
      "Aguada|PR|Puerto Rico|AGUADA|Comunidad Las Flores\n",
      "Aguada|PR|Puerto Rico|AGUADA|URB Isabel La Catolica\n",
      "Aguada|PR|Puerto Rico|AGUADA|Alts De Aguada\n",
      "63200\n"
     ]
    }
   ],
   "source": [
    "import csv\n",
    "import urllib.request\n",
    "\n",
    "url = 'https://raw.githubusercontent.com/grammakov/USA-cities-and-states/master/us_cities_states_counties.csv' \n",
    "#Descargar el archivo para poder acceder localmente\n",
    "archivo_csv ='01_04_eppy'\n",
    "urllib.request.urlretrieve(url, archivo_csv)\n",
    "#Acceder e imprimir el archivo para conocer la estructura (solo las 10 primeras filas) y el total de filas. Aquí vemos que nos aparecen más que en el ejemplo de pandas, ya que en el primero hemos obviado las que no cumplian con la estructura general y que nos aparecen en el warning.\n",
    "with open(archivo_csv, 'r') as f:\n",
    "    for i, line in enumerate(f):\n",
    "        if i < 10:\n",
    "            print(line.strip())\n",
    "        else:\n",
    "            break\n",
    "    num_filas = sum(1 for line in f)\n",
    "    print(num_filas)"
   ]
  },
  {
   "cell_type": "code",
   "execution_count": 74,
   "id": "aaaee4da",
   "metadata": {},
   "outputs": [
    {
     "name": "stdout",
     "output_type": "stream",
     "text": [
      "{'Palau', 'New Jersey', 'Louisiana', 'North Carolina', 'Kansas', 'Delaware', 'US Armed Forces Europe', 'Guam', 'California', 'Alabama', 'Massachusetts', 'Tennessee', 'South Carolina', 'Iowa', 'Michigan', 'Utah', 'Virginia', 'Texas', 'West Virginia', 'Ohio', 'State full', 'Florida', 'North Dakota', 'Georgia', 'New York', 'Missouri', 'Federated States of Micronesia', 'Minnesota', 'Maryland', 'New Mexico', 'Alaska', 'Virgin Islands', 'Wisconsin', 'Colorado', 'Rhode Island', 'Maine', 'Washington', 'Kentucky', 'Washington, D.C.', 'Nevada', 'Indiana', 'Idaho', 'US Armed Forces Pacific', 'Northern Mariana Islands', 'Arkansas', 'Oklahoma', 'Hawaii', 'Marshall Islands', 'Mississippi', 'American Samoa', 'Connecticut', 'Arizona', 'Puerto Rico', 'Vermont', 'South Dakota', 'Nebraska', 'Pennsylvania', 'Wyoming', 'New Hampshire', 'Oregon', 'Illinois', 'Montana'}\n",
      "El número de ciudades en el Estado de Florida es: 1400\n"
     ]
    }
   ],
   "source": [
    "#Imprimir los valores unicos de la columna \"State full\"\n",
    "with open(archivo_csv, 'r') as f:\n",
    "    reader = csv.reader(f, delimiter='|')\n",
    "    unique_states = set()\n",
    "    for row in reader:\n",
    "        unique_states.add(row[2])\n",
    "#Añadir en una lista cada vez que durante la iteración encuentra \"Florida\" en la columna \"State full\" y luego contar la longitud que tiene para obtener el número         \n",
    "with open(archivo_csv, 'r') as f:\n",
    "    reader = csv.reader(f, delimiter='|')\n",
    "    florida_cities = []\n",
    "    for row in reader:\n",
    "        if row[2] == 'Florida':\n",
    "            florida_cities.append(row[2])\n",
    "            \n",
    "print(unique_states)\n",
    "print(f\"El número de ciudades en el Estado de Florida es: {len(florida_cities)}\")\n",
    "\n",
    "        "
   ]
  },
  {
   "cell_type": "markdown",
   "id": "controlling-referral",
   "metadata": {},
   "source": [
    "### A2 - 15%\n",
    "- Genera una matriz con valores aleatorios de 0 a 100 de dimensiones 16x16\n",
    "- Calcula los siguentes estadísticos en la matriz anterior, por fila (el resultado de cada uno debe ser un array de dimensiones 16x1)\n",
    "  - Suma de los elementos de cada fila\n",
    "  - Media de los elementos de cada fila\n",
    "  - Valores mínimos de cada fila\n",
    "  - Valores máximos de cada fila"
   ]
  },
  {
   "cell_type": "code",
   "execution_count": 18,
   "id": "83471b87",
   "metadata": {},
   "outputs": [
    {
     "name": "stdout",
     "output_type": "stream",
     "text": [
      "[[16 50 23 57 55 90 44 58 32 33 53 30 28 23 47 57]\n",
      " [12 45 91 70 12 56  3 98 17 29 42 97 44 27 95  9]\n",
      " [25 98 90 14 88 57 11 28 91 30 60  4 34 53 99  6]\n",
      " [94 42 37 53 37 57 29 48 14 70 20 13 31 67  6  3]\n",
      " [72  1 36 83 46 47 58 47 93 77 35 83 56 10 82 13]\n",
      " [92 68 60  9 83 94 49 76 39 83 56 70 84 38 37 69]\n",
      " [ 7 64 89 50 39 15 88 66 83 34 49 92 24 64 71 72]\n",
      " [86 50  7 59  3 33 10  4 87 21 75 97 50 24 16 55]\n",
      " [10 86 69 69  4  9 94  9 76 12 70 51 97 61 30 50]\n",
      " [35 18 48 21  4 34 49 98  8 77  7 27 87 27 15 99]\n",
      " [ 8 31 58 88  7 39 95 93 17 50 50 82 34  0 40 52]\n",
      " [80 99  0 19 78  6 44 46 34 31 79 95  2 22  3 70]\n",
      " [20 19 40 93 36 57 17 37 56 97 45 61  9  3 46 77]\n",
      " [26 80 58 48 22 90 78 84  5 51 14 83 48  5 63 97]\n",
      " [94 84  2 72 65 75 58 12 22 75 65 59 49 10 72  7]\n",
      " [ 9 17  2 15 57 89 87 46 60 50 30 47 64 71  6 68]]\n",
      "Suma de los elementos: [[ 696]\n",
      " [ 747]\n",
      " [ 788]\n",
      " [ 621]\n",
      " [ 839]\n",
      " [1007]\n",
      " [ 907]\n",
      " [ 677]\n",
      " [ 797]\n",
      " [ 654]\n",
      " [ 744]\n",
      " [ 708]\n",
      " [ 713]\n",
      " [ 852]\n",
      " [ 821]\n",
      " [ 718]]\n",
      "Media de los elementos: [[43.5   ]\n",
      " [46.6875]\n",
      " [49.25  ]\n",
      " [38.8125]\n",
      " [52.4375]\n",
      " [62.9375]\n",
      " [56.6875]\n",
      " [42.3125]\n",
      " [49.8125]\n",
      " [40.875 ]\n",
      " [46.5   ]\n",
      " [44.25  ]\n",
      " [44.5625]\n",
      " [53.25  ]\n",
      " [51.3125]\n",
      " [44.875 ]]\n",
      "Valores mínimos de los elementos: [[16]\n",
      " [ 3]\n",
      " [ 4]\n",
      " [ 3]\n",
      " [ 1]\n",
      " [ 9]\n",
      " [ 7]\n",
      " [ 3]\n",
      " [ 4]\n",
      " [ 4]\n",
      " [ 0]\n",
      " [ 0]\n",
      " [ 3]\n",
      " [ 5]\n",
      " [ 2]\n",
      " [ 2]]\n",
      "Valores máximos de los elementos: [[90]\n",
      " [98]\n",
      " [99]\n",
      " [94]\n",
      " [93]\n",
      " [94]\n",
      " [92]\n",
      " [97]\n",
      " [97]\n",
      " [99]\n",
      " [95]\n",
      " [99]\n",
      " [97]\n",
      " [97]\n",
      " [94]\n",
      " [89]]\n"
     ]
    }
   ],
   "source": [
    "import numpy as np\n",
    "import pandas as pd\n",
    "\n",
    "#Generar la matriz 16x16 con números aleatorios de 0 100\n",
    "matriz = np.random.randint(0,100, size = (16,16))\n",
    "print(matriz)\n",
    "\n",
    "#Calcula la suma de los elementos de cada fila\n",
    "matriz_suma_filas = np.sum(matriz, axis=1).reshape(16,1)\n",
    "#Calcula la media de los elementos de cada fila\n",
    "matriz_media_filas = np.mean(matriz, axis=1).reshape(16,1)\n",
    "#Calcula los valores mínimos de cada fila\n",
    "matriz_valores_minimos = np.min(matriz, axis=1).reshape(16,1)\n",
    "#Calcula los valores máximos de cada fila\n",
    "matriz_valores_maximos = np.max(matriz, axis=1).reshape(16,1)\n",
    "\n",
    "#Devuelve el resultado de cada uno como un array de dimensiones 16x1\n",
    "print(f\"Suma de los elementos: {matriz_suma_filas}\")\n",
    "print(f\"Media de los elementos: {matriz_media_filas}\")\n",
    "print(f\"Valores mínimos de los elementos: {matriz_valores_minimos}\")\n",
    "print(f\"Valores máximos de los elementos: {matriz_valores_maximos}\")"
   ]
  },
  {
   "cell_type": "markdown",
   "id": "improving-championship",
   "metadata": {},
   "source": [
    "### A3 - 10%\n",
    "- Explica y expón, con un ejemplo propio, el broadcasting de NumPy"
   ]
  },
  {
   "cell_type": "markdown",
   "id": "d958ea67",
   "metadata": {},
   "source": [
    "El broadcasting de Numpy permite realizar operaciones entre arreglos que tienen diferentes formas y tamaños. Además lo hace sin hacer una copia adicional de esos datos.\n",
    "Por ejemplo, si tenemos un arreglo (3,1) y otro de (1,4) tendríamos que repetir las filas del (3,1) tres veces y las cuatro veces las columnas en el (1,4). De esta forma tendrían la misma estructura y podríamos operar con ellos.\n",
    "Pero esto es ineficiente por tiempo y por memoria, ya que se crearían duplicados de datos innecesariamente. Lo que hace el broadcasting es hacerlo de manera automática. Primero comprueba si son iguales o no, si no lo son y necesita expnadirlo para poder operar con ellos, NumPy extiende el más pequeño para adecuarlo al más grande. En este ejemplo se extendería el (3,1) a (3,4) y el (1,4) a (3,4).\n",
    "\n",
    "~~~\n",
    "import numpy as np\n",
    "\n",
    "a = np.array([[1],[4],[8]])\n",
    "b = np.array([[6,7,8,9]])\n",
    "\n",
    "c= a+b\n",
    "print(c)\n",
    "~~~"
   ]
  },
  {
   "cell_type": "markdown",
   "id": "announced-mortality",
   "metadata": {},
   "source": [
    "### A4 - 10%\n",
    "- Resolución de dos sistemas de ecuaciones\n",
    "    - $ A : \\begin{cases} -9y +  4x = 20 \\\\ -7y + 16x = 80                         \\end{cases}$\n",
    "    \n",
    "    - $ B : \\begin{cases} x - 2y + 3z = 7 \\\\ 2x + y + z = 4 \\\\ -3x + 2y -2z = -10 \\end{cases}$"
   ]
  },
  {
   "cell_type": "code",
   "execution_count": 14,
   "id": "9bae1a1a",
   "metadata": {},
   "outputs": [
    {
     "name": "stdout",
     "output_type": "stream",
     "text": [
      "Solución del sistema A: [ 5. -0.]\n",
      "Solución del sistema B: [ 2. -1.  1.]\n"
     ]
    }
   ],
   "source": [
    "# Sistema de ecuaciones A\n",
    "\n",
    "coeficientes_A = np.array([[4, -9], [16, -7]])\n",
    "resultados_A = np.array([20, 80])\n",
    "solucion_A = np.linalg.solve(coeficientes_A, resultados_A)\n",
    "print(\"Solución del sistema A:\", solucion_A)\n",
    "\n",
    "# Sistema de ecuaciones B\n",
    "\n",
    "coeficientes_B = np.array([[1, -2, 3], [2, 1, 1], [-3, 2, -2]])\n",
    "resultados_B = np.array([7, 4, -10])\n",
    "solucion_B = np.linalg.solve(coeficientes_B, resultados_B)\n",
    "print(\"Solución del sistema B:\", solucion_B)"
   ]
  },
  {
   "cell_type": "markdown",
   "id": "grave-summer",
   "metadata": {},
   "source": [
    "### A5 - 15%\n",
    "- Crear un DataFrame de dimensiones 10x10, con números aleatorios en el rango `[0,20]`\n",
    "- Reemplazar todos aquellos elementos menores de 5 por NaN\n",
    "- Averiguar cuantos elementos tienen Nan por fila"
   ]
  },
  {
   "cell_type": "code",
   "execution_count": 28,
   "id": "f2fd6d26",
   "metadata": {},
   "outputs": [
    {
     "name": "stdout",
     "output_type": "stream",
     "text": [
      "    0   1   2   3   4   5   6   7   8   9\n",
      "0   7  10  17  14   4  17   0   0   1  18\n",
      "1   6  10  11  15   0   6  10  18   2  10\n",
      "2  16   0   2   2   4  20   1  19   8  16\n",
      "3   2  18   6  20  11   5   9   8   9   4\n",
      "4   5   9   7  20   0  15   8  11  19  19\n",
      "5  15   8  18   4   0  13   2   1  11   8\n",
      "6   2  14   4   2  10   7  15  12  20  20\n",
      "7  12   1   7  16  16   2   8  19   6  15\n",
      "8  20   8  10  16  17   2   2  16  14  10\n",
      "9  17   5   8   2  19   8   0  18  17  16\n",
      "      0     1     2     3     4     5     6     7     8     9\n",
      "0   7.0  10.0  17.0  14.0   NaN  17.0   NaN   NaN   NaN  18.0\n",
      "1   6.0  10.0  11.0  15.0   NaN   6.0  10.0  18.0   NaN  10.0\n",
      "2  16.0   NaN   NaN   NaN   NaN  20.0   NaN  19.0   8.0  16.0\n",
      "3   NaN  18.0   6.0  20.0  11.0   5.0   9.0   8.0   9.0   NaN\n",
      "4   5.0   9.0   7.0  20.0   NaN  15.0   8.0  11.0  19.0  19.0\n",
      "5  15.0   8.0  18.0   NaN   NaN  13.0   NaN   NaN  11.0   8.0\n",
      "6   NaN  14.0   NaN   NaN  10.0   7.0  15.0  12.0  20.0  20.0\n",
      "7  12.0   NaN   7.0  16.0  16.0   NaN   8.0  19.0   6.0  15.0\n",
      "8  20.0   8.0  10.0  16.0  17.0   NaN   NaN  16.0  14.0  10.0\n",
      "9  17.0   5.0   8.0   NaN  19.0   8.0   NaN  18.0  17.0  16.0\n",
      "0    4\n",
      "1    2\n",
      "2    5\n",
      "3    2\n",
      "4    1\n",
      "5    4\n",
      "6    3\n",
      "7    2\n",
      "8    2\n",
      "9    2\n",
      "dtype: int64\n"
     ]
    }
   ],
   "source": [
    "data = np.random.randint(0,21, size=(10,10))\n",
    "df = pd.DataFrame(data)\n",
    "print(df)\n",
    "\n",
    "df[df<5] = np.nan\n",
    "print(df)\n",
    "\n",
    "count = df.isna().sum(axis=1)\n",
    "print(count)\n"
   ]
  },
  {
   "cell_type": "markdown",
   "id": "acceptable-manner",
   "metadata": {},
   "source": [
    "### A6 - 20%\n",
    "- Se tienen tres datasets, se adjuntan sus datos como diccionarios\n",
    "  - Students, representa un conjunto de alumnos, con sus nombres, edad y sexo\n",
    "  - Subjects, un conjunto de asignaturas, con su nombre y el semestre en que se imparten\n",
    "  - Marks, un conjunto de notas que han obtenido los alumnos en las asignaturas\n",
    "- Obtener la siguiente información usando Pandas\n",
    "  - El nombre del alumno con la mejor nota, y en que asignatura ha sido\n",
    "  - Cuantos alumnos tienen asignaturas suspendidas en el primer semestre\n",
    "  - La media de edad de los asistentes a la asignatura de Python\n",
    "  - Formar una palabra con las iniciales de los nombres de los estudiantes ordenados por edad\n",
    "- Representar graficamente\n",
    "  - Las notas medias de todos los estudiantes por asignatura, agrupando por sexo\n",
    "  - La densidad bivariable de la edad de los estudiantes frente a sus notas, agrupando por sexo (mostrando los datos de dispersion en la zona central, las curvas de densidad en los ejes)"
   ]
  },
  {
   "cell_type": "code",
   "execution_count": 29,
   "id": "radio-theory",
   "metadata": {},
   "outputs": [],
   "source": [
    "students = {'StudentId': [1,2,3,4,5,6], 'Name' : ['Yael','Thomas','Paula','Orlando','Hannah','Nicole'], 'Age' : [22,31,19,44,39,51], 'Sex' : ['M', 'M', 'F', 'M', 'F', 'F']}\n",
    "subjects = {'SubjectId': [1,2,3], 'Name': ['Python', 'Math', 'DeepLearning'], 'Semester': [1, 1, 2]}\n",
    "marks = {'StudentId' : [2,2,1,3,6,4,4,3,2,5], 'SubjectId' : [1,3,1,2,1,2,3,1,2,1], 'Mark': [6,5,8,3,5,2,7,2,4,6]}"
   ]
  },
  {
   "cell_type": "code",
   "execution_count": 44,
   "id": "08470516",
   "metadata": {},
   "outputs": [
    {
     "name": "stdout",
     "output_type": "stream",
     "text": [
      "   StudentId  SubjectId  Mark   Name_x  Age Sex        Name_y  Semester\n",
      "0          2          1     6   Thomas   31   M        Python         1\n",
      "1          1          1     8     Yael   22   M        Python         1\n",
      "2          3          1     2    Paula   19   F        Python         1\n",
      "3          6          1     5   Nicole   51   F        Python         1\n",
      "4          5          1     6   Hannah   39   F        Python         1\n",
      "5          2          3     5   Thomas   31   M  DeepLearning         2\n",
      "6          4          3     7  Orlando   44   M  DeepLearning         2\n",
      "7          2          2     4   Thomas   31   M          Math         1\n",
      "8          3          2     3    Paula   19   F          Math         1\n",
      "9          4          2     2  Orlando   44   M          Math         1\n",
      "El alumno con la mejor nota es Yael en la asignatura de Python\n",
      "   StudentId  SubjectId  Mark   Name_x  Age Sex  Name_y  Semester\n",
      "2          3          1     2    Paula   19   F  Python         1\n",
      "7          2          2     4   Thomas   31   M    Math         1\n",
      "8          3          2     3    Paula   19   F    Math         1\n",
      "9          4          2     2  Orlando   44   M    Math         1\n",
      "Hay 3 alumnos con asignaturas suspendidas en el primer semestre\n",
      "   StudentId    Name  Age Sex  SubjectId  Mark\n",
      "0          1    Yael   22   M          1     8\n",
      "1          2  Thomas   31   M          1     6\n",
      "2          3   Paula   19   F          1     2\n",
      "3          5  Hannah   39   F          1     6\n",
      "4          6  Nicole   51   F          1     5\n",
      "La media de edad de los asistentes a la asignatura de Python es 32.4\n"
     ]
    },
    {
     "ename": "NameError",
     "evalue": "name 'merge_df' is not defined",
     "output_type": "error",
     "traceback": [
      "\u001b[1;31m---------------------------------------------------------------------------\u001b[0m",
      "\u001b[1;31mNameError\u001b[0m                                 Traceback (most recent call last)",
      "\u001b[1;32m~\\AppData\\Local\\Temp\\ipykernel_13216\\575112172.py\u001b[0m in \u001b[0;36m<module>\u001b[1;34m\u001b[0m\n\u001b[0;32m     38\u001b[0m \u001b[1;33m\u001b[0m\u001b[0m\n\u001b[0;32m     39\u001b[0m \u001b[0mmerged_df\u001b[0m \u001b[1;33m=\u001b[0m \u001b[0mpd\u001b[0m\u001b[1;33m.\u001b[0m\u001b[0mmerge\u001b[0m\u001b[1;33m(\u001b[0m\u001b[0mpd\u001b[0m\u001b[1;33m.\u001b[0m\u001b[0mmerge\u001b[0m\u001b[1;33m(\u001b[0m\u001b[0mmarks_df\u001b[0m\u001b[1;33m,\u001b[0m \u001b[0mstudents_df\u001b[0m\u001b[1;33m,\u001b[0m \u001b[0mon\u001b[0m\u001b[1;33m=\u001b[0m\u001b[1;34m'StudentId'\u001b[0m\u001b[1;33m)\u001b[0m\u001b[1;33m,\u001b[0m \u001b[0msubjects_df\u001b[0m\u001b[1;33m,\u001b[0m \u001b[0mon\u001b[0m\u001b[1;33m=\u001b[0m\u001b[1;34m'SubjectId'\u001b[0m\u001b[1;33m)\u001b[0m\u001b[1;33m\u001b[0m\u001b[1;33m\u001b[0m\u001b[0m\n\u001b[1;32m---> 40\u001b[1;33m \u001b[0mmean_age_sex\u001b[0m \u001b[1;33m=\u001b[0m \u001b[0mmerge_df\u001b[0m\u001b[1;33m.\u001b[0m\u001b[0mgroupby\u001b[0m\u001b[1;33m(\u001b[0m\u001b[1;33m[\u001b[0m\u001b[1;34m'Name_x'\u001b[0m\u001b[1;33m,\u001b[0m \u001b[1;34m'Sex'\u001b[0m\u001b[1;33m]\u001b[0m\u001b[1;33m)\u001b[0m\u001b[1;33m[\u001b[0m\u001b[1;34m'Mark'\u001b[0m\u001b[1;33m]\u001b[0m\u001b[1;33m.\u001b[0m\u001b[0mmean\u001b[0m\u001b[1;33m(\u001b[0m\u001b[1;33m)\u001b[0m\u001b[1;33m.\u001b[0m\u001b[0munstack\u001b[0m\u001b[1;33m(\u001b[0m\u001b[1;33m)\u001b[0m\u001b[1;33m\u001b[0m\u001b[1;33m\u001b[0m\u001b[0m\n\u001b[0m\u001b[0;32m     41\u001b[0m \u001b[0mprint\u001b[0m\u001b[1;33m(\u001b[0m\u001b[0mmean_age_sex\u001b[0m\u001b[1;33m)\u001b[0m\u001b[1;33m\u001b[0m\u001b[1;33m\u001b[0m\u001b[0m\n",
      "\u001b[1;31mNameError\u001b[0m: name 'merge_df' is not defined"
     ]
    }
   ],
   "source": [
    "students_df = pd.DataFrame({'StudentId': [1,2,3,4,5,6], \n",
    "                            'Name' : ['Yael','Thomas','Paula','Orlando','Hannah','Nicole'], \n",
    "                            'Age' : [22,31,19,44,39,51], \n",
    "                            'Sex' : ['M', 'M', 'F', 'M', 'F', 'F']})\n",
    "\n",
    "subjects_df = pd.DataFrame({'SubjectId': [1,2,3], \n",
    "                            'Name': ['Python', 'Math', 'DeepLearning'], \n",
    "                            'Semester': [1, 1, 2]})\n",
    "\n",
    "marks_df = pd.DataFrame({'StudentId' : [2,2,1,3,6,4,4,3,2,5], \n",
    "                         'SubjectId' : [1,3,1,2,1,2,3,1,2,1], \n",
    "                         'Mark': [6,5,8,3,5,2,7,2,4,6]})\n",
    "\n",
    "# Obtener el nombre del alumno con la mejor nota y en qué asignatura ha sido\n",
    "merged_df = pd.merge(marks_df, students_df, on='StudentId')\n",
    "merged_df = pd.merge(merged_df, subjects_df, on='SubjectId')\n",
    "print(merged_df)\n",
    "max_mark_row = merged_df.loc[merged_df['Mark'].idxmax()]\n",
    "print(f\"El alumno con la mejor nota es {max_mark_row['Name_x']} en la asignatura de {max_mark_row['Name_y']}\")\n",
    "\n",
    "#Cuantos alumnos tienen asignaturas suspendidas en el primer semestre\n",
    "first_semester_df = merged_df.loc[merged_df['Semester'] == 1]\n",
    "suspended_students_df = first_semester_df.loc[first_semester_df['Mark'] < 5]\n",
    "print(suspended_students_df)\n",
    "num_suspended_students = len(suspended_students_df['StudentId'].unique())\n",
    "print(f\"Hay {num_suspended_students} alumnos con asignaturas suspendidas en el primer semestre\")\n",
    "\n",
    "#La media de edad de los asistentes a la asignatura de Python\n",
    "python_students_df = pd.merge(students_df, marks_df.loc[marks_df['SubjectId'] == 1], on='StudentId')\n",
    "mean_age = python_students_df['Age'].mean()\n",
    "print(python_students_df)\n",
    "print(f\"La media de edad de los asistentes a la asignatura de Python es {mean_age}\")\n",
    "\n",
    "#Formar una palabra con las iniciales de los nombres de los estudiantes ordenados por edad"
   ]
  },
  {
   "cell_type": "code",
   "execution_count": 50,
   "id": "9ea5ab2d",
   "metadata": {},
   "outputs": [
    {
     "name": "stdout",
     "output_type": "stream",
     "text": [
      "Sex        F    M\n",
      "Name_x           \n",
      "Hannah   6.0  NaN\n",
      "Nicole   5.0  NaN\n",
      "Orlando  NaN  4.5\n",
      "Paula    2.5  NaN\n",
      "Thomas   NaN  5.0\n",
      "Yael     NaN  8.0\n"
     ]
    },
    {
     "data": {
      "image/png": "[encoded data removed]",
      "text/plain": [
       "<Figure size 640x480 with 1 Axes>"
      ]
     },
     "metadata": {},
     "output_type": "display_data"
    }
   ],
   "source": [
    "import matplotlib\n",
    "import matplotlib.pyplot as plt\n",
    "\n",
    "#Las notas medias de todos los estudiantes por asignatura, agrupando por sexo\n",
    "merged_df = pd.merge(pd.merge(marks_df, students_df, on='StudentId'), subjects_df, on='SubjectId')\n",
    "mean_age_sex = merged_df.groupby(['Name_x', 'Sex'])['Mark'].mean().unstack()\n",
    "print(mean_age_sex)\n",
    "mean_age_sex.plot(kind='bar', rot=0)\n",
    "plt.xlabel('Asignaturas')\n",
    "plt.ylabel('Nota media')\n",
    "plt.title('Notas medias de todos los estudiantes por asignatura, agrupando por sexo')\n",
    "plt.legend(title='Sexo')\n",
    "plt.show()\n",
    "\n",
    "#La densidad bivariable de la edad de los estudiantes frente a sus notas, agrupando por sexo (mostrando los datos de dispersion en la zona central, las curvas de densidad en los ejes)"
   ]
  },
  {
   "cell_type": "markdown",
   "id": "seven-trout",
   "metadata": {},
   "source": [
    "### A7 - 15%\n",
    "- Dadas dos Series de Pandas, implementar una función 'find_not_common' para encontrar los elementos no comunes a ambas Series\n",
    "- Se proveen dos series como referencia, el resultado para este ejemplo debe ser una serie con los elementos [4, 6, 14, 16]"
   ]
  },
  {
   "cell_type": "code",
   "execution_count": 52,
   "id": "residential-empty",
   "metadata": {},
   "outputs": [
    {
     "name": "stdout",
     "output_type": "stream",
     "text": [
      "True\n"
     ]
    }
   ],
   "source": [
    "p1 = pd.Series([2, 4, 12, 6, 8, 10])\n",
    "p2 = pd.Series([8, 10, 12, 10, 14, 2, 16, 10])\n",
    "\n",
    "def find_not_common(s1, s2):\n",
    "    return pd.concat([s1[~s1.isin(s2)], s2[~s2.isin(s1)]]).sort_values().reset_index(drop=True)\n",
    "\n",
    "print(find_not_common(p1, p2).equals(pd.Series([4, 6, 14, 16]))) # Esto deberia imprimir True"
   ]
  },
  {
   "cell_type": "code",
   "execution_count": null,
   "id": "fe213628",
   "metadata": {},
   "outputs": [],
   "source": []
  }
 ],
 "metadata": {
  "kernelspec": {
   "display_name": "Python 3 (ipykernel)",
   "language": "python",
   "name": "python3"
  },
  "language_info": {
   "codemirror_mode": {
    "name": "ipython",
    "version": 3
   },
   "file_extension": ".py",
   "mimetype": "text/x-python",
   "name": "python",
   "nbconvert_exporter": "python",
   "pygments_lexer": "ipython3",
   "version": "3.9.13"
  }
 },
 "nbformat": 4,
 "nbformat_minor": 5
}
